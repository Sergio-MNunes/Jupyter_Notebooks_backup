{
 "cells": [
  {
   "cell_type": "code",
   "execution_count": 1,
   "metadata": {
    "scrolled": true
   },
   "outputs": [
    {
     "name": "stdout",
     "output_type": "stream",
     "text": [
      "Digite o nome do(a) aluno(a): Thainan\n",
      "Digite a matéria que ele(a) está cursando: Farmacia\n",
      "Digite a nota do(a) burro(a): 3\n",
      "O(A) Thainan burro(a) foi reprovado(a)\n"
     ]
    }
   ],
   "source": [
    "aluno = input('Digite o nome do(a) aluno(a): ')\n",
    "materia = input('Digite a matéria que ele(a) está cursando: ')\n",
    "nota = int(input('Digite a nota do(a) burro(a): '))\n",
    "\n",
    "if (nota < 6):\n",
    "    print('O(A) ' + aluno + ' burro(a) foi reprovado(a)')\n",
    "    \n",
    "elif (6 <= nota < 10):\n",
    "    print('O(A) ' + aluno + ' burro(a) passou em ' + materia)\n",
    "\n",
    "else:\n",
    "    print('Tirou 10? Foda-se')"
   ]
  },
  {
   "cell_type": "code",
   "execution_count": 2,
   "metadata": {},
   "outputs": [
    {
     "name": "stdout",
     "output_type": "stream",
     "text": [
      "Digite seu nome. : \n",
      "sergio\n",
      "s\n",
      "e\n",
      "r\n",
      "g\n",
      "i\n",
      "o\n"
     ]
    }
   ],
   "source": [
    "nome_completo = input('Digite seu nome. : \\n')\n",
    "\n",
    "for letter in nome_completo:\n",
    "    print(letter)"
   ]
  }
 ],
 "metadata": {
  "kernelspec": {
   "display_name": "Python 3",
   "language": "python",
   "name": "python3"
  },
  "language_info": {
   "codemirror_mode": {
    "name": "ipython",
    "version": 3
   },
   "file_extension": ".py",
   "mimetype": "text/x-python",
   "name": "python",
   "nbconvert_exporter": "python",
   "pygments_lexer": "ipython3",
   "version": "3.7.6"
  }
 },
 "nbformat": 4,
 "nbformat_minor": 4
}
