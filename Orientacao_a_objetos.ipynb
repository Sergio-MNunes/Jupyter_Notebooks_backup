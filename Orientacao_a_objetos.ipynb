{
 "cells": [
  {
   "cell_type": "markdown",
   "metadata": {},
   "source": [
    "# Orientação a Objetos\n",
    "\n",
    "Assim declaramos uma classe em Python:"
   ]
  },
  {
   "cell_type": "code",
   "execution_count": 2,
   "metadata": {},
   "outputs": [],
   "source": [
    "class Disco:\n",
    "    pass"
   ]
  },
  {
   "cell_type": "markdown",
   "metadata": {},
   "source": [
    "Dessa forma, já possuimos a classe **Disco**. Podemos utilizar objetos criados a partir desta classe em nosso código:"
   ]
  },
  {
   "cell_type": "code",
   "execution_count": 6,
   "metadata": {},
   "outputs": [
    {
     "name": "stdout",
     "output_type": "stream",
     "text": [
      "<__main__.Disco object at 0x0000023C1E06D888>\n"
     ]
    }
   ],
   "source": [
    "disco = Disco()\n",
    "print(disco)"
   ]
  },
  {
   "cell_type": "markdown",
   "metadata": {},
   "source": [
    "Como pode ser visto, quando damos print numa variável que armazena um objeto, nos é mostrado um endereço de memória. Este endereço de memória é onde está armazenado de fato o nosso objeto, sendo a variável *disco* apenas uma **referência** à este endereço.\n",
    "\n",
    "Observe o comportamento abaixo:"
   ]
  },
  {
   "cell_type": "code",
   "execution_count": 10,
   "metadata": {},
   "outputs": [
    {
     "name": "stdout",
     "output_type": "stream",
     "text": [
      "<__main__.Disco object at 0x0000023C1DF90448>\n",
      "American Candy\n"
     ]
    }
   ],
   "source": [
    "disco1 = Disco()\n",
    "print(disco1)\n",
    "disco2 = disco\n",
    "\n",
    "# Vamos dar um atributo qualquer ao objeto disco1\n",
    "disco1.nome = 'American Candy' # Podemos dar atributos aos objetos em Python em tempo de execução\n",
    "\n",
    "'''\n",
    "Agora, se dermos um print no atributo que demos ao disco1, porém a partir do objeto disco2, \n",
    "temos o retorno do que atribuimos ao disco1\n",
    "'''\n",
    "print(disco2.nome)"
   ]
  },
  {
   "cell_type": "markdown",
   "metadata": {},
   "source": [
    "Isso acontece porque a referência *disco2* está apontando para o mesmo objeto que a referência *disco1*"
   ]
  },
  {
   "cell_type": "markdown",
   "metadata": {},
   "source": [
    " "
   ]
  },
  {
   "cell_type": "markdown",
   "metadata": {},
   "source": [
    "## Metódo Construtor, Métodos e Atributos"
   ]
  },
  {
   "cell_type": "markdown",
   "metadata": {},
   "source": [
    "#### Método Construtor"
   ]
  },
  {
   "cell_type": "markdown",
   "metadata": {},
   "source": [
    "O *método construtor* é chamado ao ser realizada uma invocação daquela classe no objeto (como vimos em \"disco1 = Disco()\" ). Como o próprio nome sugere, ele constrói o objeto quando o chamamos:"
   ]
  },
  {
   "cell_type": "code",
   "execution_count": null,
   "metadata": {},
   "outputs": [],
   "source": [
    "class Disco:\n",
    "    def __init__(self): # Este é o nosso método construtor\n",
    "        pass"
   ]
  },
  {
   "cell_type": "markdown",
   "metadata": {},
   "source": [
    " "
   ]
  },
  {
   "cell_type": "markdown",
   "metadata": {},
   "source": [
    "### Atributos Públicos e Privados"
   ]
  },
  {
   "cell_type": "markdown",
   "metadata": {},
   "source": [
    "#### Atributos Públicos"
   ]
  },
  {
   "cell_type": "markdown",
   "metadata": {},
   "source": [
    "É dentro do método construtor que definimos os **atributos** da classe:"
   ]
  },
  {
   "cell_type": "code",
   "execution_count": 13,
   "metadata": {
    "scrolled": true
   },
   "outputs": [
    {
     "name": "stdout",
     "output_type": "stream",
     "text": [
      "American Candy\n",
      "The Maine\n",
      "10\n"
     ]
    }
   ],
   "source": [
    "class Disco:\n",
    "    def __init__(self, nome, artista, numero_faixas):\n",
    "        self.nome = nome\n",
    "        self.artista = artista\n",
    "        self.numero_faixas = numero_faixas\n",
    "        \n",
    "disco = Disco('American Candy', 'The Maine', 10)\n",
    "\n",
    "print(disco.nome)\n",
    "print(disco.artista)\n",
    "print(disco.numero_faixas)"
   ]
  },
  {
   "cell_type": "markdown",
   "metadata": {},
   "source": [
    "Viu só? Desta forma, conseguimos *construir* o objeto já com atributos definidos e acessá-los quando precisarmos.\n",
    "\n",
    "Mas existe um problema no código acima: não é uma boa prática acessar os atributos diretamente da forma como foi feito nos *prints*, pois isso é uma potencial vulnerabilidade em nosso código e abre brechas para bugs e má utilização de nossa classe. Veja como fica fácil realizar alterações indevidas nos atributos dessa forma:"
   ]
  },
  {
   "cell_type": "code",
   "execution_count": 14,
   "metadata": {},
   "outputs": [
    {
     "name": "stdout",
     "output_type": "stream",
     "text": [
      "American Candy\n",
      "American Idiot\n"
     ]
    }
   ],
   "source": [
    "class Disco:\n",
    "    def __init__(self, nome, artista, numero_faixas):\n",
    "        self.nome = nome\n",
    "        self.artista = artista\n",
    "        self.numero_faixas = numero_faixas\n",
    "        \n",
    "disco = Disco('American Candy', 'The Maine', 10)\n",
    "\n",
    "print(disco.nome)\n",
    "\n",
    "disco.nome = 'American Idiot'\n",
    "print(disco.nome)"
   ]
  },
  {
   "cell_type": "markdown",
   "metadata": {},
   "source": [
    "Basta chamar o atributo e realizar a alteração que quisermos. Isso não é bom."
   ]
  },
  {
   "cell_type": "markdown",
   "metadata": {},
   "source": [
    " \n"
   ]
  },
  {
   "cell_type": "markdown",
   "metadata": {},
   "source": [
    "#### Atributos Privados e Name Mangling"
   ]
  },
  {
   "cell_type": "markdown",
   "metadata": {},
   "source": [
    "Para prevenir o acesso direto aos atributos, precisamos torná-los privados. No Python, utilizamos dois *underlines* para isso:"
   ]
  },
  {
   "cell_type": "code",
   "execution_count": 36,
   "metadata": {},
   "outputs": [
    {
     "ename": "AttributeError",
     "evalue": "'Disco' object has no attribute '__nome'",
     "output_type": "error",
     "traceback": [
      "\u001b[1;31m---------------------------------------------------------------------------\u001b[0m",
      "\u001b[1;31mAttributeError\u001b[0m                            Traceback (most recent call last)",
      "\u001b[1;32m<ipython-input-36-02350dcdedf7>\u001b[0m in \u001b[0;36m<module>\u001b[1;34m\u001b[0m\n\u001b[0;32m      7\u001b[0m \u001b[0mdisco\u001b[0m \u001b[1;33m=\u001b[0m \u001b[0mDisco\u001b[0m\u001b[1;33m(\u001b[0m\u001b[1;34m'American Candy'\u001b[0m\u001b[1;33m,\u001b[0m \u001b[1;34m'The Maine'\u001b[0m\u001b[1;33m,\u001b[0m \u001b[1;36m10\u001b[0m\u001b[1;33m)\u001b[0m\u001b[1;33m\u001b[0m\u001b[1;33m\u001b[0m\u001b[0m\n\u001b[0;32m      8\u001b[0m \u001b[1;33m\u001b[0m\u001b[0m\n\u001b[1;32m----> 9\u001b[1;33m \u001b[0mprint\u001b[0m\u001b[1;33m(\u001b[0m\u001b[0mdisco\u001b[0m\u001b[1;33m.\u001b[0m\u001b[0m__nome\u001b[0m\u001b[1;33m)\u001b[0m\u001b[1;33m\u001b[0m\u001b[1;33m\u001b[0m\u001b[0m\n\u001b[0m",
      "\u001b[1;31mAttributeError\u001b[0m: 'Disco' object has no attribute '__nome'"
     ]
    }
   ],
   "source": [
    "class Disco:\n",
    "    def __init__(self, nome, artista, numero_faixas):\n",
    "        self.__nome = nome\n",
    "        self.__artista = artista\n",
    "        self.__numero_faixas = numero_faixas\n",
    "        \n",
    "disco = Disco('American Candy', 'The Maine', 10)\n",
    "\n",
    "print(disco.__nome)"
   ]
  },
  {
   "cell_type": "markdown",
   "metadata": {},
   "source": [
    "Viu? Deu erro, pois tentamos acessar o atributo \\__nome, que *é privado* e não pode ser acessado como um atributo qualquer. \n",
    "\n",
    "Quando definimos o atributo como privado temos uma forma especial de acessá-lo, já que o Python realiza um *name mangling* nele:"
   ]
  },
  {
   "cell_type": "code",
   "execution_count": 37,
   "metadata": {},
   "outputs": [
    {
     "name": "stdout",
     "output_type": "stream",
     "text": [
      "American Candy\n"
     ]
    }
   ],
   "source": [
    "print(disco._Disco__nome)"
   ]
  },
  {
   "cell_type": "markdown",
   "metadata": {},
   "source": [
    "Basicamente, ainda temos acesso ao atributo da forma como acessamos acima, mas, por convenção, quando vimos um atributo privado, significa que a pessoa que desenvolveu aquela classe *não quer* que utilizemos seus atributos com essa chamada direta."
   ]
  },
  {
   "cell_type": "markdown",
   "metadata": {},
   "source": [
    "Porém existe um problema: este comportamento do *name mangling* pode acabar criando mais uma camada de complexidade no nosso código em algumas situações, como por exemplo quando trabalhamos com herança (mais adiante). Por conta disso várias pessoas adotaram uma convenção mais simples, o uso de apenas **um** underline na definição de atributos privados:"
   ]
  },
  {
   "cell_type": "code",
   "execution_count": 38,
   "metadata": {},
   "outputs": [
    {
     "name": "stdout",
     "output_type": "stream",
     "text": [
      "American Candy\n"
     ]
    }
   ],
   "source": [
    "class Disco:\n",
    "    \n",
    "    def __init__(self, nome, artista, numero_faixas):\n",
    "        \n",
    "        # Apenas um _ na definição dos atributos\n",
    "        \n",
    "        self._nome = nome\n",
    "        self._artista = artista\n",
    "        self._numero_faixas = numero_faixas\n",
    "        \n",
    "disco = Disco('American Candy', 'The Maine', 10)\n",
    "\n",
    "print(disco._nome)"
   ]
  },
  {
   "cell_type": "markdown",
   "metadata": {},
   "source": [
    "Desta forma o Python não aplica o *name mangling* e ainda temos o acesso simples ao atributo, como se não houvesse nenhum underline, mas, como eu disse, **por convenção**, a counidade de Python entende estes atributos iniciados por \\_ como privados e os tratam como tal."
   ]
  }
 ],
 "metadata": {
  "kernelspec": {
   "display_name": "Python 3",
   "language": "python",
   "name": "python3"
  },
  "language_info": {
   "codemirror_mode": {
    "name": "ipython",
    "version": 3
   },
   "file_extension": ".py",
   "mimetype": "text/x-python",
   "name": "python",
   "nbconvert_exporter": "python",
   "pygments_lexer": "ipython3",
   "version": "3.7.6"
  }
 },
 "nbformat": 4,
 "nbformat_minor": 4
}
