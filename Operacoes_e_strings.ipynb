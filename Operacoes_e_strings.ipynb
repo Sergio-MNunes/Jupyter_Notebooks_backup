{
 "cells": [
  {
   "cell_type": "markdown",
   "metadata": {},
   "source": [
    "# 1. Operações, variáveis e tipos de variáveis em Python"
   ]
  },
  {
   "cell_type": "markdown",
   "metadata": {},
   "source": [
    "#### Soma"
   ]
  },
  {
   "cell_type": "code",
   "execution_count": 2,
   "metadata": {},
   "outputs": [
    {
     "data": {
      "text/plain": [
       "2"
      ]
     },
     "execution_count": 2,
     "metadata": {},
     "output_type": "execute_result"
    }
   ],
   "source": [
    "1 + 1"
   ]
  },
  {
   "cell_type": "raw",
   "metadata": {},
   "source": []
  },
  {
   "cell_type": "markdown",
   "metadata": {},
   "source": [
    "#### Subtração"
   ]
  },
  {
   "cell_type": "code",
   "execution_count": 3,
   "metadata": {},
   "outputs": [
    {
     "data": {
      "text/plain": [
       "1"
      ]
     },
     "execution_count": 3,
     "metadata": {},
     "output_type": "execute_result"
    }
   ],
   "source": [
    "3 - 2"
   ]
  },
  {
   "cell_type": "raw",
   "metadata": {},
   "source": []
  },
  {
   "cell_type": "markdown",
   "metadata": {},
   "source": [
    "#### Multiplicação"
   ]
  },
  {
   "cell_type": "code",
   "execution_count": 4,
   "metadata": {},
   "outputs": [
    {
     "data": {
      "text/plain": [
       "9"
      ]
     },
     "execution_count": 4,
     "metadata": {},
     "output_type": "execute_result"
    }
   ],
   "source": [
    "3 * 3"
   ]
  },
  {
   "cell_type": "raw",
   "metadata": {},
   "source": []
  },
  {
   "cell_type": "markdown",
   "metadata": {},
   "source": [
    "#### Divisão\n",
    "\n",
    "Retorna sempre um número float caso utilize apenas uma barra:"
   ]
  },
  {
   "cell_type": "code",
   "execution_count": 5,
   "metadata": {},
   "outputs": [
    {
     "data": {
      "text/plain": [
       "1.5"
      ]
     },
     "execution_count": 5,
     "metadata": {},
     "output_type": "execute_result"
    }
   ],
   "source": [
    "6 / 4"
   ]
  },
  {
   "cell_type": "markdown",
   "metadata": {},
   "source": [
    "Para retornar inteiro, utilize duas barras \"//\":"
   ]
  },
  {
   "cell_type": "code",
   "execution_count": 6,
   "metadata": {},
   "outputs": [
    {
     "data": {
      "text/plain": [
       "1"
      ]
     },
     "execution_count": 6,
     "metadata": {},
     "output_type": "execute_result"
    }
   ],
   "source": [
    "6 // 4"
   ]
  },
  {
   "cell_type": "code",
   "execution_count": null,
   "metadata": {},
   "outputs": [],
   "source": []
  },
  {
   "cell_type": "markdown",
   "metadata": {},
   "source": [
    "#### Mod (resto de divisão)"
   ]
  },
  {
   "cell_type": "code",
   "execution_count": 7,
   "metadata": {},
   "outputs": [
    {
     "data": {
      "text/plain": [
       "2"
      ]
     },
     "execution_count": 7,
     "metadata": {},
     "output_type": "execute_result"
    }
   ],
   "source": [
    "6 % 4"
   ]
  },
  {
   "cell_type": "markdown",
   "metadata": {},
   "source": [
    "### Função type()\n",
    "\n",
    "Mostra o tipo do parâmetro informado, como uma variável por exemplo:"
   ]
  },
  {
   "cell_type": "code",
   "execution_count": 8,
   "metadata": {},
   "outputs": [
    {
     "data": {
      "text/plain": [
       "int"
      ]
     },
     "execution_count": 8,
     "metadata": {},
     "output_type": "execute_result"
    }
   ],
   "source": [
    "type(2)"
   ]
  },
  {
   "cell_type": "code",
   "execution_count": 9,
   "metadata": {},
   "outputs": [
    {
     "data": {
      "text/plain": [
       "float"
      ]
     },
     "execution_count": 9,
     "metadata": {},
     "output_type": "execute_result"
    }
   ],
   "source": [
    "type(2.0)"
   ]
  },
  {
   "cell_type": "code",
   "execution_count": 10,
   "metadata": {},
   "outputs": [
    {
     "data": {
      "text/plain": [
       "str"
      ]
     },
     "execution_count": 10,
     "metadata": {},
     "output_type": "execute_result"
    }
   ],
   "source": [
    "a = 'Isso é uma String'\n",
    "type(a)"
   ]
  },
  {
   "cell_type": "raw",
   "metadata": {},
   "source": []
  },
  {
   "cell_type": "raw",
   "metadata": {},
   "source": []
  },
  {
   "cell_type": "markdown",
   "metadata": {},
   "source": [
    "## 1.2 Strings\n",
    "\n",
    "O sinal de operação de adição (+), quando utilizado com strings, funciona como uma concatenação (equivalente ao || no SQL):"
   ]
  },
  {
   "cell_type": "code",
   "execution_count": 11,
   "metadata": {},
   "outputs": [
    {
     "name": "stdout",
     "output_type": "stream",
     "text": [
      "Sergio de Magalhaes Nunes\n"
     ]
    }
   ],
   "source": [
    "name = \"Sergio\"\n",
    "middle_name = \"de Magalhaes\"\n",
    "last_name = \"Nunes\"\n",
    "\n",
    "full_name = name + \" \" + middle_name + \" \" + last_name\n",
    "\n",
    "print(full_name)"
   ]
  },
  {
   "cell_type": "code",
   "execution_count": null,
   "metadata": {},
   "outputs": [],
   "source": []
  },
  {
   "cell_type": "markdown",
   "metadata": {},
   "source": [
    "### Indexação de Strings\n",
    "\n",
    "A linguagem Python mantém o controle da posição de cada caracter da string (começando por 0). O nome disso é Indexação (Índice):"
   ]
  },
  {
   "cell_type": "code",
   "execution_count": 12,
   "metadata": {},
   "outputs": [
    {
     "data": {
      "text/plain": [
       "'S'"
      ]
     },
     "execution_count": 12,
     "metadata": {},
     "output_type": "execute_result"
    }
   ],
   "source": [
    "full_name = \"Sergio de Magalhaes Nunes\"\n",
    "\n",
    "# Trás a primeira posição da string\n",
    "full_name[0]"
   ]
  },
  {
   "cell_type": "markdown",
   "metadata": {},
   "source": [
    "Apesar de possibilitar que qualquer posição da string seja acessada, uma propriedade do tipo *string* é que ela é **imutável**:"
   ]
  },
  {
   "cell_type": "code",
   "execution_count": 13,
   "metadata": {},
   "outputs": [
    {
     "ename": "TypeError",
     "evalue": "'str' object does not support item assignment",
     "output_type": "error",
     "traceback": [
      "\u001b[1;31m---------------------------------------------------------------------------\u001b[0m",
      "\u001b[1;31mTypeError\u001b[0m                                 Traceback (most recent call last)",
      "\u001b[1;32m<ipython-input-13-5c101f6c6c02>\u001b[0m in \u001b[0;36m<module>\u001b[1;34m\u001b[0m\n\u001b[0;32m      1\u001b[0m \u001b[0mfull_name\u001b[0m \u001b[1;33m=\u001b[0m \u001b[1;34m\"Sergio de Magalhaes Nunes\"\u001b[0m\u001b[1;33m\u001b[0m\u001b[1;33m\u001b[0m\u001b[0m\n\u001b[0;32m      2\u001b[0m \u001b[1;33m\u001b[0m\u001b[0m\n\u001b[1;32m----> 3\u001b[1;33m \u001b[0mfull_name\u001b[0m\u001b[1;33m[\u001b[0m\u001b[1;36m0\u001b[0m\u001b[1;33m]\u001b[0m \u001b[1;33m=\u001b[0m \u001b[1;34m\"P\"\u001b[0m\u001b[1;33m\u001b[0m\u001b[1;33m\u001b[0m\u001b[0m\n\u001b[0m",
      "\u001b[1;31mTypeError\u001b[0m: 'str' object does not support item assignment"
     ]
    }
   ],
   "source": [
    "full_name = \"Sergio de Magalhaes Nunes\"\n",
    "\n",
    "full_name[0] = \"P\""
   ]
  },
  {
   "cell_type": "markdown",
   "metadata": {},
   "source": [
    "Repare o erro \" 'str' object does not support item assignment \""
   ]
  },
  {
   "cell_type": "code",
   "execution_count": null,
   "metadata": {},
   "outputs": [],
   "source": []
  },
  {
   "cell_type": "markdown",
   "metadata": {},
   "source": [
    "# 2. Slice"
   ]
  },
  {
   "cell_type": "markdown",
   "metadata": {},
   "source": [
    "A funcionalidade de slice permite que cortemos a string onde quisermos para trazer apenas as partes que nos interessam.\n",
    "\n",
    "string[**start**:**stop**:**step**]\n",
    "\n",
    "- **Start**: index de início. Será a primeira posição do seu corte, incluindo a própria posição especificada;\n",
    "\n",
    "- **Stop**: index de término. Será a última posição do seu corte, **NÃO INCLUINDO** a posição especificada, ou seja, se o index no stop for 6, a última posição buscada será a 5;\n",
    "\n",
    "- **Step [parâmetro opcional]**: o Step controla como o corte irá se comportar. Não é um parâmetro obrigatório como o start e o stop, e por padrão ele é definido como 1 quando não é especificado. Na prática, o step indica de quantas em quantas posições o interpretador irá buscar. Se for especificado 2 no step, o interpretador pega um caracter a cada 2 posições.\n",
    "\n",
    "Nos exemplos fica mais claro:"
   ]
  },
  {
   "cell_type": "code",
   "execution_count": null,
   "metadata": {},
   "outputs": [],
   "source": [
    "# Preparando a variável full_name para os exemplos abaixo\n",
    "\n",
    "full_name = 'Sergio de Magalhaes Nunes'"
   ]
  },
  {
   "cell_type": "markdown",
   "metadata": {},
   "source": [
    "Para facilitar, utilize o mapa abaixo, onde o x é sempre igual a 5:"
   ]
  },
  {
   "cell_type": "raw",
   "metadata": {},
   "source": [
    "0----x----1----x----2----\n",
    "Sergio de Magalhaes Nunes"
   ]
  },
  {
   "cell_type": "markdown",
   "metadata": {},
   "source": [
    "Trás da primeira posição da string até a quinta (lembre-se que o valor do **stop** é **exclusivo**, ou seja, a sexta posição não entra):"
   ]
  },
  {
   "cell_type": "code",
   "execution_count": 15,
   "metadata": {},
   "outputs": [
    {
     "data": {
      "text/plain": [
       "'Sergio'"
      ]
     },
     "execution_count": 15,
     "metadata": {},
     "output_type": "execute_result"
    }
   ],
   "source": [
    "# Lembre-se também que o index no Python começa em 0\n",
    "full_name[0:6]"
   ]
  },
  {
   "cell_type": "markdown",
   "metadata": {},
   "source": [
    "ou também, caso nenhum valor seja especificado, por padrão, parte da primeira posição:"
   ]
  },
  {
   "cell_type": "code",
   "execution_count": 14,
   "metadata": {},
   "outputs": [
    {
     "data": {
      "text/plain": [
       "'Sergio'"
      ]
     },
     "execution_count": 14,
     "metadata": {},
     "output_type": "execute_result"
    }
   ],
   "source": [
    "full_name[:6]"
   ]
  },
  {
   "cell_type": "markdown",
   "metadata": {},
   "source": [
    "Também vale para o **stop**. Caso nada seja especificado, vai até o final:"
   ]
  },
  {
   "cell_type": "code",
   "execution_count": 16,
   "metadata": {},
   "outputs": [
    {
     "data": {
      "text/plain": [
       "' Magalhaes Nunes'"
      ]
     },
     "execution_count": 16,
     "metadata": {},
     "output_type": "execute_result"
    }
   ],
   "source": [
    "full_name[9:]"
   ]
  },
  {
   "cell_type": "markdown",
   "metadata": {},
   "source": [
    "Se um número negativo é informado no **stop**, o slice pega do **start** até o total de caracteres da string menos o valor de stop.\n",
    "\n",
    "Simplificando, se o stop receber o valor -2 por exemplo, ele irá pegar do start até o final, tirando 2 caracteres do final:"
   ]
  },
  {
   "cell_type": "code",
   "execution_count": 17,
   "metadata": {},
   "outputs": [
    {
     "data": {
      "text/plain": [
       "'Sergio de Magalhaes Nun'"
      ]
     },
     "execution_count": 17,
     "metadata": {},
     "output_type": "execute_result"
    }
   ],
   "source": [
    "# Pega do início da string até o final, deixando os 2 últimos caracteres de fora\n",
    "full_name[:-2] "
   ]
  },
  {
   "cell_type": "markdown",
   "metadata": {},
   "source": [
    "### Step"
   ]
  },
  {
   "cell_type": "markdown",
   "metadata": {},
   "source": [
    "Agora sobre o parâmetro **step** que já foi explicado no início.\n",
    "\n",
    "Existe um terceiro parâmetro no slice que é o **step**. Ele é opcional e conta de quantos em quantos caracteres o interpretador deve pegar. Por padrão é 1 quando não especificado, como nos exemplos acima. Para modificá-lo, basta incluir mais um \":\" dentro dos colchetes do slice:\n",
    "\n",
    "string[start:stop:**step**]"
   ]
  },
  {
   "cell_type": "code",
   "execution_count": 18,
   "metadata": {},
   "outputs": [
    {
     "data": {
      "text/plain": [
       "'Sri eMglasNns'"
      ]
     },
     "execution_count": 18,
     "metadata": {},
     "output_type": "execute_result"
    }
   ],
   "source": [
    "# Aqui, vamos pegar toda a string, avançando de 2 em 2, ou seja, pega 1 e pula o próximo, pega 1 e pula o próximo, etc.\n",
    "full_name[::2]"
   ]
  },
  {
   "cell_type": "markdown",
   "metadata": {},
   "source": [
    "### Invertendo a string com o Slice"
   ]
  },
  {
   "cell_type": "markdown",
   "metadata": {},
   "source": [
    "Além de controlar de quantos em quantos caracteres o interpretador avança, também podemos alterar a **direção** em que ele avança pelos caracteres da string utilizando o **step**.\n",
    "\n",
    "Para isso, informamos um número negativo nele:"
   ]
  },
  {
   "cell_type": "code",
   "execution_count": 19,
   "metadata": {},
   "outputs": [
    {
     "data": {
      "text/plain": [
       "'senuN seahlagaM ed oigreS'"
      ]
     },
     "execution_count": 19,
     "metadata": {},
     "output_type": "execute_result"
    }
   ],
   "source": [
    "# Se informar um número negativo no \"step\", a string será percorrida de trás pra frente, ou seja, a direção será invertida\n",
    "full_name[::-1]"
   ]
  },
  {
   "cell_type": "markdown",
   "metadata": {},
   "source": [
    "Quando invertemos a direção utilizando o **step**, é importante reparar que o papel do **start** e do **stop** também serão invertidos, afinal de contas, agora a string começa pela direita e termina pela esquerda:"
   ]
  },
  {
   "cell_type": "markdown",
   "metadata": {},
   "source": [
    "#### full_name[5::-1]"
   ]
  },
  {
   "cell_type": "code",
   "execution_count": 20,
   "metadata": {},
   "outputs": [
    {
     "data": {
      "text/plain": [
       "'oigreS'"
      ]
     },
     "execution_count": 20,
     "metadata": {},
     "output_type": "execute_result"
    }
   ],
   "source": [
    "# Começa no índice 5 da string e imprime até o final.\n",
    "# Como o step está parametrizado com -1, a string será percorrida na direção oposta, logo, o final da string na verdade é o início dela\n",
    "\n",
    "full_name[5::-1]"
   ]
  },
  {
   "cell_type": "raw",
   "metadata": {},
   "source": [
    "full_name[5::-1]\n",
    "\n",
    "  0----x----1----x----2----\n",
    "  Sergio de Magalhaes Nunes\n",
    " ^     ^\n",
    " |<<<<<|\n",
    "stop start"
   ]
  },
  {
   "cell_type": "code",
   "execution_count": null,
   "metadata": {},
   "outputs": [],
   "source": []
  },
  {
   "cell_type": "markdown",
   "metadata": {},
   "source": [
    "#### full_name[:5:-1]"
   ]
  },
  {
   "cell_type": "code",
   "execution_count": 22,
   "metadata": {},
   "outputs": [
    {
     "data": {
      "text/plain": [
       "'senuN seahlagaM ed '"
      ]
     },
     "execution_count": 22,
     "metadata": {},
     "output_type": "execute_result"
    }
   ],
   "source": [
    "# Para no índice 5 da string e imprime de trás pra frente. Ou seja, imprime do final até o índice 6 (stop é exclusivo, portanto não pega o 5)\n",
    "# Como o start não foi especificado, começa no início da string. Como está na direção oposta, o início é no final da string\n",
    "\n",
    "full_name[:5:-1]"
   ]
  },
  {
   "cell_type": "raw",
   "metadata": {},
   "source": [
    "full_name[:5:-1]\n",
    "\n",
    "0----x----1----x----2----\n",
    "Sergio de Magalhaes Nunes\n",
    "     ^                  ^\n",
    "     |<<<<<<<<<<<<<<<<<<|\n",
    "   stop               start"
   ]
  },
  {
   "cell_type": "markdown",
   "metadata": {},
   "source": [
    "#### full_name[18:9:-1]"
   ]
  },
  {
   "cell_type": "code",
   "execution_count": 25,
   "metadata": {},
   "outputs": [
    {
     "data": {
      "text/plain": [
       "'seahlagaM'"
      ]
     },
     "execution_count": 25,
     "metadata": {},
     "output_type": "execute_result"
    }
   ],
   "source": [
    "# Começa na posição 18 e para na posição 9. Como a direção está invertida, o start está à direita do stop na string\n",
    "\n",
    "full_name[18:9:-1]"
   ]
  },
  {
   "cell_type": "raw",
   "metadata": {},
   "source": [
    "full_name[18:9:-1]\n",
    "\n",
    "0----x----1----x----2----\n",
    "Sergio de Magalhaes Nunes\n",
    "         ^        ^\n",
    "         |<<<<<<<<|\n",
    "       stop     start"
   ]
  },
  {
   "cell_type": "markdown",
   "metadata": {},
   "source": [
    "E se, neste último exemplo, a direção não estivesse invertida?"
   ]
  },
  {
   "cell_type": "code",
   "execution_count": 26,
   "metadata": {},
   "outputs": [
    {
     "data": {
      "text/plain": [
       "''"
      ]
     },
     "execution_count": 26,
     "metadata": {},
     "output_type": "execute_result"
    }
   ],
   "source": [
    "# Começa na posição 18 e para na posição 9, porém, sem definir o step, o slice terá o comportamento padrão (step = 1)\n",
    "\n",
    "full_name[18:9]"
   ]
  },
  {
   "cell_type": "markdown",
   "metadata": {},
   "source": [
    "Veja abaixo porque o retorno foi vazio:"
   ]
  },
  {
   "cell_type": "raw",
   "metadata": {},
   "source": [
    "full_name[18:9]\n",
    "\n",
    "0----x----1----x----2----\n",
    "Sergio de Magalhaes Nunes\n",
    "         ^        ^\n",
    "         |        |>>>>>>>>>>>>>>>>>>>>>>>>>>>>>>>>>>>>>>>>>>>>>>>>>>>>>>> WHAT THE FUCK??\n",
    "       stop     start"
   ]
  },
  {
   "cell_type": "markdown",
   "metadata": {},
   "source": [
    "O interpretador retorna vazio porque a posição do start está depois da posição do stop, portanto, o slice não pararia de avançar nunca, ou seja, é uma sentença que para o interpretador não faz sentido."
   ]
  },
  {
   "cell_type": "code",
   "execution_count": null,
   "metadata": {},
   "outputs": [],
   "source": []
  }
 ],
 "metadata": {
  "kernelspec": {
   "display_name": "Python 3",
   "language": "python",
   "name": "python3"
  },
  "language_info": {
   "codemirror_mode": {
    "name": "ipython",
    "version": 3
   },
   "file_extension": ".py",
   "mimetype": "text/x-python",
   "name": "python",
   "nbconvert_exporter": "python",
   "pygments_lexer": "ipython3",
   "version": "3.7.6"
  }
 },
 "nbformat": 4,
 "nbformat_minor": 4
}
