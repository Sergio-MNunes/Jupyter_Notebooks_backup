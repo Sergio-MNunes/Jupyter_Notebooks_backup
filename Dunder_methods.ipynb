{
 "cells": [
  {
   "cell_type": "markdown",
   "metadata": {},
   "source": [
    "## Dunder Methods (ou Magic Methods)"
   ]
  },
  {
   "cell_type": "markdown",
   "metadata": {},
   "source": [
    "###  \\_\\_getitem\\_\\_\n",
    "\n",
    "\\_\\_getitem\\_\\_ é utilizado para transformar a classe em um objeto **iterável**, ou seja, um objeto que possibilita a ação de repetição sobre seus elementos, como listas e strings, avaçando elemento a elemento."
   ]
  },
  {
   "cell_type": "code",
   "execution_count": 24,
   "metadata": {
    "scrolled": false
   },
   "outputs": [
    {
     "name": "stdout",
     "output_type": "stream",
     "text": [
      "Somewhere in Neverland\n",
      "To Live and Let Go\n",
      "So Long Soldier\n",
      "False\n"
     ]
    }
   ],
   "source": [
    "class Disco():\n",
    "    def __init__(self, nome, artista, faixas):\n",
    "        self._nome = nome\n",
    "        self._artista = artista\n",
    "        self._faixas = faixas\n",
    "\n",
    " # Aqui fazemos a declaração do nosso Magic Method para transformar o objeto num iterável\n",
    "    def __getitem__(self, item):\n",
    "        return self._faixas[item]\n",
    "\n",
    "lista_musicas = ['Somewhere in Neverland', 'To Live and Let Go', 'So Long Soldier']\n",
    "cd1 = Disco('Don\\'t Panic', \"All Time Low\", lista_musicas)\n",
    "\n",
    "for musica in cd1: # Quando transformamos um objeto em iterável, podemos utilizá-lo em loops\n",
    "    print(musica)\n",
    "    \n",
    "print('Hello Brooklin' in cd1) # Também podemos utilizá-lo no comando in, retornando um True ou False"
   ]
  },
  {
   "cell_type": "markdown",
   "metadata": {},
   "source": [
    " "
   ]
  },
  {
   "cell_type": "markdown",
   "metadata": {},
   "source": [
    "### \\_\\_str\\_\\_\n",
    "\n",
    "O método \\_\\_str\\_\\_ é chamado pelas funções print() e str() quando elas são utilizadas, portanto, ele define o que aparecerá para o usuário que utilizar estas funções no objeto."
   ]
  },
  {
   "cell_type": "code",
   "execution_count": 60,
   "metadata": {},
   "outputs": [
    {
     "name": "stdout",
     "output_type": "stream",
     "text": [
      "Don't Panic, por All Time Low. Faixas: ['Somewhere in Neverland', 'To Live and Let Go', 'So Long Soldier']\n"
     ]
    }
   ],
   "source": [
    "class Disco():\n",
    "    def __init__(self, nome, artista, faixas):\n",
    "        self._nome = nome\n",
    "        self._artista = artista\n",
    "        self._faixas = faixas\n",
    "        \n",
    "    def __getitem__(self, item):\n",
    "        return self._faixas[item]\n",
    "    \n",
    "    def __str__(self):\n",
    "        return f'{self._nome}, por {self._artista}. Faixas: {self._faixas}'\n",
    "    \n",
    "lista_musicas = ['Somewhere in Neverland', 'To Live and Let Go', 'So Long Soldier']\n",
    "cd1 = Disco('Don\\'t Panic', \"All Time Low\", lista_musicas)\n",
    "\n",
    "print(cd1)"
   ]
  }
 ],
 "metadata": {
  "kernelspec": {
   "display_name": "Python 3",
   "language": "python",
   "name": "python3"
  },
  "language_info": {
   "codemirror_mode": {
    "name": "ipython",
    "version": 3
   },
   "file_extension": ".py",
   "mimetype": "text/x-python",
   "name": "python",
   "nbconvert_exporter": "python",
   "pygments_lexer": "ipython3",
   "version": "3.6.10"
  }
 },
 "nbformat": 4,
 "nbformat_minor": 2
}
