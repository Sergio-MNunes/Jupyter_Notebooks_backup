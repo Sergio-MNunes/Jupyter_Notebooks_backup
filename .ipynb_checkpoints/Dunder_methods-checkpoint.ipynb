{
 "cells": [
  {
   "cell_type": "markdown",
   "metadata": {},
   "source": [
    "## Dunder Methods (ou Magic Methods)"
   ]
  },
  {
   "cell_type": "markdown",
   "metadata": {},
   "source": [
    "### \\_\\_str\\_\\_\n",
    "\n",
    "O método \\_\\_str\\_\\_ é chamado pelas funções print() e str() quando elas são utilizadas, portanto, ele define o que aparecerá para o usuário que utilizar estas funções no objeto."
   ]
  },
  {
   "cell_type": "code",
   "execution_count": 66,
   "metadata": {},
   "outputs": [
    {
     "name": "stdout",
     "output_type": "stream",
     "text": [
      "Don't Panic, por All Time Low.\n",
      "Faixas:\n",
      "1. Somewhere in Neverland\n",
      "2. To Live and Let Go\n",
      "3. So Long Soldier\n"
     ]
    }
   ],
   "source": [
    "class Disco():\n",
    "    def __init__(self, nome, artista, faixas):\n",
    "        self._nome = nome\n",
    "        self._artista = artista\n",
    "        self._faixas = faixas\n",
    "        \n",
    "    def devolve_musicas_por_linha(self,with_index=False):\n",
    "        string_musicas = ''\n",
    "        \n",
    "        if with_index == True:\n",
    "            numero_faixa = 1\n",
    "            \n",
    "            for musicas in self._faixas:\n",
    "                string_musicas += str(numero_faixa) + '. ' + musicas + '\\n'\n",
    "                numero_faixa += 1\n",
    "                \n",
    "        else:\n",
    "            for musicas in self._faixas:\n",
    "                string_musicas += musicas + '\\n'\n",
    "                \n",
    "        string_musicas = string_musicas.strip('\\n')\n",
    "        return string_musicas\n",
    "\n",
    "    def __str__(self):\n",
    "        string_musicas = self.devolve_musicas_por_linha(with_index=True)\n",
    "        \n",
    "        return f'{self._nome}, por {self._artista}.\\nFaixas:\\n{string_musicas}'\n",
    "    \n",
    "    \n",
    "lista_musicas = ['Somewhere in Neverland', 'To Live and Let Go', 'So Long Soldier']\n",
    "cd1 = Disco('Don\\'t Panic', \"All Time Low\", lista_musicas)\n",
    "\n",
    "print(cd1)"
   ]
  },
  {
   "cell_type": "markdown",
   "metadata": {},
   "source": [
    " "
   ]
  },
  {
   "cell_type": "markdown",
   "metadata": {},
   "source": [
    "###  \\_\\_getitem\\_\\_\n",
    "\n",
    "\\_\\_getitem\\_\\_ é utilizado para transformar a classe em um objeto **iterável**, ou seja, um objeto que possibilita a ação de repetição sobre seus elementos, como listas e strings, avaçando elemento a elemento."
   ]
  },
  {
   "cell_type": "code",
   "execution_count": 68,
   "metadata": {
    "scrolled": false
   },
   "outputs": [
    {
     "name": "stdout",
     "output_type": "stream",
     "text": [
      "Somewhere in Neverland\n",
      "To Live and Let Go\n",
      "So Long Soldier\n",
      "False\n"
     ]
    }
   ],
   "source": [
    "class Disco():\n",
    "    def __init__(self, nome, artista, faixas):\n",
    "        self._nome = nome\n",
    "        self._artista = artista\n",
    "        self._faixas = faixas\n",
    "    \n",
    "# Aqui fazemos a declaração do nosso Magic Method para transformar o objeto num iterável\n",
    "    def __getitem__(self, item):\n",
    "        return self._faixas[item]\n",
    "    \n",
    "    \n",
    "lista_musicas = ['Somewhere in Neverland', 'To Live and Let Go', 'So Long Soldier']\n",
    "cd1 = Disco('Don\\'t Panic', \"All Time Low\", lista_musicas)\n",
    "\n",
    "# Quando transformamos um objeto em iterável, podemos utilizá-lo em loops\n",
    "for musica in cd1:\n",
    "    print(musica)\n",
    "    \n",
    "# Também podemos utilizá-lo no comando in, retornando um True ou False\n",
    "print('Hello Brooklin' in cd1) "
   ]
  }
 ],
 "metadata": {
  "kernelspec": {
   "display_name": "Python 3",
   "language": "python",
   "name": "python3"
  },
  "language_info": {
   "codemirror_mode": {
    "name": "ipython",
    "version": 3
   },
   "file_extension": ".py",
   "mimetype": "text/x-python",
   "name": "python",
   "nbconvert_exporter": "python",
   "pygments_lexer": "ipython3",
   "version": "3.7.6"
  }
 },
 "nbformat": 4,
 "nbformat_minor": 2
}
